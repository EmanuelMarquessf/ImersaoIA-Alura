{
  "nbformat": 4,
  "nbformat_minor": 0,
  "metadata": {
    "colab": {
      "provenance": [],
      "authorship_tag": "ABX9TyMTLPNb0wrGdk2NGV/Ps8Ld",
      "include_colab_link": true
    },
    "kernelspec": {
      "name": "python3",
      "display_name": "Python 3"
    },
    "language_info": {
      "name": "python"
    }
  },
  "cells": [
    {
      "cell_type": "markdown",
      "metadata": {
        "id": "view-in-github",
        "colab_type": "text"
      },
      "source": [
        "<a href=\"https://colab.research.google.com/github/EmanuelMarquessf/ImersaoIA-Alura/blob/main/BasePront.ipynb\" target=\"_parent\"><img src=\"https://colab.research.google.com/assets/colab-badge.svg\" alt=\"Open In Colab\"/></a>"
      ]
    },
    {
      "cell_type": "code",
      "execution_count": null,
      "metadata": {
        "id": "KKD_nZBV4Pfb"
      },
      "outputs": [],
      "source": [
        "!pip install -q -U google-generativeai"
      ]
    },
    {
      "cell_type": "code",
      "source": [],
      "metadata": {
        "id": "SogO3G5T5FJK"
      },
      "execution_count": null,
      "outputs": []
    },
    {
      "cell_type": "code",
      "source": [
        "import google.generativeai as genai\n",
        "from google.colab import userdata\n",
        "api_key = userdata.get('SECRET_KEY')\\\n",
        "\n",
        "genai.configure(api_key=api_key)\n"
      ],
      "metadata": {
        "id": "gy9CU4L245_I"
      },
      "execution_count": 1,
      "outputs": []
    },
    {
      "cell_type": "code",
      "source": [
        "model = genai.GenerativeModel('gemini-pro')"
      ],
      "metadata": {
        "id": "FvNxsaV85bYr"
      },
      "execution_count": 2,
      "outputs": []
    },
    {
      "cell_type": "code",
      "source": [
        "response = model.generate_content(\"Vamos aprender conteudo sobre IA. Me de sugestões.\")\n",
        "print(response.text)"
      ],
      "metadata": {
        "colab": {
          "base_uri": "https://localhost:8080/",
          "height": 902
        },
        "id": "8HjDe-U_5pRi",
        "outputId": "18bd59cd-ee0e-4296-ed62-631985cffb38"
      },
      "execution_count": 3,
      "outputs": [
        {
          "output_type": "stream",
          "name": "stdout",
          "text": [
            "**Conceitos Fundamentais:**\n",
            "\n",
            "* Aprendizado de Máquina\n",
            "* Aprendizado Profundo\n",
            "* Redes Neurais\n",
            "* Processamento de Linguagem Natural\n",
            "* Visão Computacional\n",
            "\n",
            "**Tipos de IA:**\n",
            "\n",
            "* IA Forte (AGI)\n",
            "* IA Fraca (ANI)\n",
            "* IA Estreita (ANI)\n",
            "* Sistemas Especialistas\n",
            "\n",
            "**Aplicações da IA:**\n",
            "\n",
            "* Reconhecimento de padrões\n",
            "* Previsão de tendências\n",
            "* Otimização de processos\n",
            "* Desenvolvimento de produtos\n",
            "* Atendimento ao cliente\n",
            "* Diagnóstico médico\n",
            "\n",
            "**Desafios da IA:**\n",
            "\n",
            "* Viés e discriminação\n",
            "* Interpretabilidade e transparência\n",
            "* Governança e regulamentação\n",
            "* Implicações éticas\n",
            "* Desemprego tecnológico\n",
            "\n",
            "**Recursos de Aprendizagem:**\n",
            "\n",
            "* **Cursos online:**\n",
            "    * Coursera: IA para Todos\n",
            "    * edX: Ciência de Dados e Aprendizado de Máquina\n",
            "* **Livros:**\n",
            "    * \"Introdução ao Aprendizado de Máquina\" por Ethem Alpaydin\n",
            "    * \"Deep Learning\" por Ian Goodfellow, Yoshua Bengio e Aaron Courville\n",
            "* **Comunidades online:**\n",
            "    * Stack Overflow: Fórum de perguntas e respostas sobre programação e IA\n",
            "    * Reddit /r/IA: Comunidade para discutir notícias e desenvolvimento de IA\n",
            "\n",
            "**Tendências Recentes:**\n",
            "\n",
            "* Aprendizado por Reforço\n",
            "* Aprendizado Federado\n",
            "* IA Explicável\n",
            "* Metaverso\n",
            "* Inteligência Artificial Geradora (GAI)\n"
          ]
        }
      ]
    }
  ]
}